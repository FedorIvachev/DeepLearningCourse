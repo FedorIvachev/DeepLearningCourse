{
 "cells": [
  {
   "cell_type": "code",
   "execution_count": 1,
   "metadata": {},
   "outputs": [],
   "source": [
    "from torchtext import data\n",
    "from torchtext import datasets\n",
    "from torchtext.vocab import Vectors, GloVe, CharNGram, FastText\n",
    "import torch\n",
    "import torch.nn as nn\n",
    "import torch.optim as optim\n",
    "import numpy as np"
   ]
  },
  {
   "cell_type": "code",
   "execution_count": 2,
   "metadata": {},
   "outputs": [],
   "source": [
    "# set up fields\n",
    "TEXT = data.Field()\n",
    "LABEL = data.Field(sequential=False,dtype=torch.long)\n",
    "# make splits for data\n",
    "# DO NOT MODIFY: fine_grained=True, train_subtrees=False\n",
    "train, val, test = datasets.SST.splits(\n",
    "    TEXT, LABEL, fine_grained=True, train_subtrees=False)"
   ]
  },
  {
   "cell_type": "code",
   "execution_count": 3,
   "metadata": {},
   "outputs": [
    {
     "name": "stdout",
     "output_type": "stream",
     "text": [
      "train.fields {'text': <torchtext.data.field.Field object at 0x000002DC82634708>, 'label': <torchtext.data.field.Field object at 0x000002DC826346C8>}\n",
      "len(train) 8544\n",
      "vars(train[0]) {'text': ['The', 'Rock', 'is', 'destined', 'to', 'be', 'the', '21st', 'Century', \"'s\", 'new', '``', 'Conan', \"''\", 'and', 'that', 'he', \"'s\", 'going', 'to', 'make', 'a', 'splash', 'even', 'greater', 'than', 'Arnold', 'Schwarzenegger', ',', 'Jean-Claud', 'Van', 'Damme', 'or', 'Steven', 'Segal', '.'], 'label': 'positive'}\n"
     ]
    }
   ],
   "source": [
    "# print information about the data\n",
    "print('train.fields', train.fields)\n",
    "print('len(train)', len(train))\n",
    "print('vars(train[0])', vars(train[0]))"
   ]
  },
  {
   "cell_type": "code",
   "execution_count": 4,
   "metadata": {},
   "outputs": [
    {
     "name": "stdout",
     "output_type": "stream",
     "text": [
      "['<unk>', '<pad>', '.', ',', 'the', 'and', 'a', 'of', 'to', \"'s\"]\n",
      "defaultdict(<bound method Vocab._default_unk_index of <torchtext.vocab.Vocab object at 0x000002DC86484F08>>, {'<unk>': 0, 'positive': 1, 'negative': 2, 'neutral': 3, 'very positive': 4, 'very negative': 5})\n",
      "[('.', 8024), (',', 7131), ('the', 6037), ('and', 4431), ('a', 4403), ('of', 4386), ('to', 2995), (\"'s\", 2544), ('is', 2536), ('that', 1915), ('in', 1789), ('it', 1775), ('The', 1265), ('as', 1200), ('film', 1152), ('but', 1076), ('with', 1071), ('for', 963), ('movie', 959), ('its', 912)]\n"
     ]
    }
   ],
   "source": [
    "# build the vocabulary\n",
    "# you can use other pretrained vectors, refer to https://github.com/pytorch/text/blob/master/torchtext/vocab.py\n",
    "TEXT.build_vocab(train, vectors=Vectors(name='vector.txt', cache='./data'))\n",
    "LABEL.build_vocab(train)\n",
    "# We can also see the vocabulary directly using either the stoi (string to int) or itos (int to string) method.\n",
    "print(TEXT.vocab.itos[:10])\n",
    "print(LABEL.vocab.stoi)\n",
    "print(TEXT.vocab.freqs.most_common(20))"
   ]
  },
  {
   "cell_type": "code",
   "execution_count": 5,
   "metadata": {},
   "outputs": [
    {
     "name": "stdout",
     "output_type": "stream",
     "text": [
      "len(TEXT.vocab) 18282\n",
      "TEXT.vocab.vectors.size() torch.Size([18282, 300])\n"
     ]
    }
   ],
   "source": [
    "# print vocab information\n",
    "print('len(TEXT.vocab)', len(TEXT.vocab))\n",
    "print('TEXT.vocab.vectors.size()', TEXT.vocab.vectors.size())"
   ]
  },
  {
   "cell_type": "code",
   "execution_count": 6,
   "metadata": {},
   "outputs": [],
   "source": [
    "# make iterator for splits\n",
    "train_iter, val_iter, test_iter = data.BucketIterator.splits(\n",
    "    (train, val, test), batch_size=64)"
   ]
  },
  {
   "cell_type": "code",
   "execution_count": 7,
   "metadata": {},
   "outputs": [
    {
     "name": "stdout",
     "output_type": "stream",
     "text": [
      "torch.Size([18282, 300])\n"
     ]
    }
   ],
   "source": [
    "pretrained_embeddings = TEXT.vocab.vectors\n",
    "\n",
    "print(pretrained_embeddings.shape)"
   ]
  },
  {
   "cell_type": "code",
   "execution_count": 8,
   "metadata": {},
   "outputs": [],
   "source": [
    "class Double_Dropout_BiLSTM(nn.Module):\n",
    "    def __init__(self, input_dim, embedding_dim, hidden_dim, output_dim):\n",
    "        super(Double_Dropout_BiLSTM, self).__init__()\n",
    "        self.hidden_dim = hidden_dim\n",
    "        self.word_embeddings = nn.Embedding(input_dim, embedding_dim)\n",
    "        self.lstm = nn.LSTM(embedding_dim, hidden_dim, bidirectional = True, dropout = 0.5, num_layers = 2)\n",
    "        self.fc = nn.Linear(hidden_dim * 2, output_dim)\n",
    "        \n",
    "    def forward(self, sentence):\n",
    "        embedded_text = self.word_embeddings(sentence)\n",
    "        lstm_out, _ = self.lstm(embedded_text)\n",
    "        return self.fc(lstm_out[-1])"
   ]
  },
  {
   "cell_type": "code",
   "execution_count": 9,
   "metadata": {},
   "outputs": [],
   "source": [
    "model = Double_Dropout_BiLSTM(len(TEXT.vocab), pretrained_embeddings.shape[1], 256, 5)\n",
    "model.word_embeddings.weight.data.copy_(pretrained_embeddings)\n",
    "optimizer = optim.Adam(model.parameters(), lr=0.001)\n",
    "loss_function = nn.CrossEntropyLoss()"
   ]
  },
  {
   "cell_type": "code",
   "execution_count": 10,
   "metadata": {},
   "outputs": [],
   "source": [
    "device = torch.device(\"cpu\") ## change to CUDA\n",
    "model = model.to(device)\n",
    "loss_function = loss_function.to(device)\n",
    "train_loss, train_acc, val_loss, val_acc = [], [], [], []\n"
   ]
  },
  {
   "cell_type": "code",
   "execution_count": 11,
   "metadata": {},
   "outputs": [
    {
     "name": "stdout",
     "output_type": "stream",
     "text": [
      "Last 30 batches accuracy: 0.260\n",
      "Last 30 batches accuracy: 0.260\n",
      "Last 30 batches accuracy: 0.270\n",
      "Last 30 batches accuracy: 0.272\n",
      "Epoch  0 , train accuracy: 0.265\n",
      "Epoch  0 , validation accuracy: 0.252\n",
      "Last 30 batches accuracy: 0.257\n",
      "Last 30 batches accuracy: 0.265\n",
      "Last 30 batches accuracy: 0.263\n",
      "Last 30 batches accuracy: 0.271\n",
      "Epoch  1 , train accuracy: 0.266\n",
      "Epoch  1 , validation accuracy: 0.312\n",
      "Last 30 batches accuracy: 0.274\n",
      "Last 30 batches accuracy: 0.274\n",
      "Last 30 batches accuracy: 0.268\n",
      "Last 30 batches accuracy: 0.272\n",
      "Last 30 batches accuracy: 0.325\n",
      "Epoch  2 , train accuracy: 0.289\n",
      "Epoch  2 , validation accuracy: 0.291\n",
      "Last 30 batches accuracy: 0.290\n",
      "Last 30 batches accuracy: 0.271\n",
      "Last 30 batches accuracy: 0.273\n",
      "Last 30 batches accuracy: 0.274\n",
      "Epoch  3 , train accuracy: 0.269\n",
      "Epoch  3 , validation accuracy: 0.310\n",
      "Last 30 batches accuracy: 0.261\n",
      "Last 30 batches accuracy: 0.266\n",
      "Last 30 batches accuracy: 0.273\n",
      "Last 30 batches accuracy: 0.249\n",
      "Last 30 batches accuracy: 0.276\n",
      "Epoch  4 , train accuracy: 0.268\n",
      "Epoch  4 , validation accuracy: 0.259\n",
      "Last 30 batches accuracy: 0.276\n",
      "Last 30 batches accuracy: 0.255\n",
      "Last 30 batches accuracy: 0.276\n",
      "Last 30 batches accuracy: 0.346\n",
      "Epoch  5 , train accuracy: 0.302\n",
      "Epoch  5 , validation accuracy: 0.343\n",
      "Last 30 batches accuracy: 0.365\n",
      "Last 30 batches accuracy: 0.379\n",
      "Last 30 batches accuracy: 0.366\n",
      "Last 30 batches accuracy: 0.393\n",
      "Last 30 batches accuracy: 0.414\n",
      "Epoch  6 , train accuracy: 0.388\n",
      "Epoch  6 , validation accuracy: 0.384\n",
      "Last 30 batches accuracy: 0.433\n",
      "Last 30 batches accuracy: 0.440\n",
      "Last 30 batches accuracy: 0.449\n",
      "Last 30 batches accuracy: 0.452\n",
      "Epoch  7 , train accuracy: 0.444\n",
      "Epoch  7 , validation accuracy: 0.368\n",
      "Last 30 batches accuracy: 0.448\n",
      "Last 30 batches accuracy: 0.499\n",
      "Last 30 batches accuracy: 0.505\n",
      "Last 30 batches accuracy: 0.525\n",
      "Last 30 batches accuracy: 0.527\n",
      "Epoch  8 , train accuracy: 0.511\n",
      "Epoch  8 , validation accuracy: 0.400\n",
      "Last 30 batches accuracy: 0.590\n",
      "Last 30 batches accuracy: 0.605\n",
      "Last 30 batches accuracy: 0.594\n",
      "Last 30 batches accuracy: 0.610\n",
      "Epoch  9 , train accuracy: 0.605\n",
      "Epoch  9 , validation accuracy: 0.415\n",
      "Last 30 batches accuracy: 0.636\n",
      "Last 30 batches accuracy: 0.699\n",
      "Last 30 batches accuracy: 0.694\n",
      "Last 30 batches accuracy: 0.698\n",
      "Last 30 batches accuracy: 0.711\n",
      "Epoch  10 , train accuracy: 0.700\n",
      "Epoch  10 , validation accuracy: 0.391\n",
      "Last 30 batches accuracy: 0.801\n",
      "Last 30 batches accuracy: 0.774\n",
      "Last 30 batches accuracy: 0.780\n",
      "Last 30 batches accuracy: 0.797\n",
      "Epoch  11 , train accuracy: 0.788\n",
      "Epoch  11 , validation accuracy: 0.404\n",
      "Last 30 batches accuracy: 0.809\n",
      "Last 30 batches accuracy: 0.852\n",
      "Last 30 batches accuracy: 0.864\n",
      "Last 30 batches accuracy: 0.860\n",
      "Last 30 batches accuracy: 0.850\n",
      "Epoch  12 , train accuracy: 0.858\n",
      "Epoch  12 , validation accuracy: 0.382\n",
      "Last 30 batches accuracy: 0.903\n",
      "Last 30 batches accuracy: 0.918\n",
      "Last 30 batches accuracy: 0.897\n",
      "Last 30 batches accuracy: 0.877\n",
      "Epoch  13 , train accuracy: 0.899\n",
      "Epoch  13 , validation accuracy: 0.388\n",
      "Last 30 batches accuracy: 0.912\n",
      "Last 30 batches accuracy: 0.930\n",
      "Last 30 batches accuracy: 0.926\n",
      "Last 30 batches accuracy: 0.925\n",
      "Last 30 batches accuracy: 0.917\n",
      "Epoch  14 , train accuracy: 0.925\n",
      "Epoch  14 , validation accuracy: 0.393\n",
      "Last 30 batches accuracy: 0.939\n",
      "Last 30 batches accuracy: 0.940\n",
      "Last 30 batches accuracy: 0.942\n",
      "Last 30 batches accuracy: 0.945\n",
      "Epoch  15 , train accuracy: 0.941\n",
      "Epoch  15 , validation accuracy: 0.379\n",
      "Last 30 batches accuracy: 0.949\n",
      "Last 30 batches accuracy: 0.945\n",
      "Last 30 batches accuracy: 0.954\n",
      "Last 30 batches accuracy: 0.960\n",
      "Epoch  16 , train accuracy: 0.954\n",
      "Epoch  16 , validation accuracy: 0.372\n",
      "Last 30 batches accuracy: 0.959\n",
      "Last 30 batches accuracy: 0.968\n",
      "Last 30 batches accuracy: 0.972\n",
      "Last 30 batches accuracy: 0.965\n",
      "Last 30 batches accuracy: 0.963\n",
      "Epoch  17 , train accuracy: 0.966\n",
      "Epoch  17 , validation accuracy: 0.378\n",
      "Last 30 batches accuracy: 0.962\n",
      "Last 30 batches accuracy: 0.982\n",
      "Last 30 batches accuracy: 0.969\n",
      "Last 30 batches accuracy: 0.967\n",
      "Epoch  18 , train accuracy: 0.972\n",
      "Epoch  18 , validation accuracy: 0.369\n",
      "Last 30 batches accuracy: 0.972\n",
      "Last 30 batches accuracy: 0.976\n",
      "Last 30 batches accuracy: 0.977\n",
      "Last 30 batches accuracy: 0.980\n",
      "Last 30 batches accuracy: 0.965\n",
      "Epoch  19 , train accuracy: 0.974\n",
      "Epoch  19 , validation accuracy: 0.372\n",
      "Last 30 batches accuracy: 0.977\n",
      "Last 30 batches accuracy: 0.977\n",
      "Last 30 batches accuracy: 0.974\n",
      "Last 30 batches accuracy: 0.974\n",
      "Epoch  20 , train accuracy: 0.975\n",
      "Epoch  20 , validation accuracy: 0.380\n",
      "Last 30 batches accuracy: 0.971\n",
      "Last 30 batches accuracy: 0.973\n",
      "Last 30 batches accuracy: 0.981\n",
      "Last 30 batches accuracy: 0.982\n",
      "Last 30 batches accuracy: 0.974\n",
      "Epoch  21 , train accuracy: 0.977\n",
      "Epoch  21 , validation accuracy: 0.382\n",
      "Last 30 batches accuracy: 0.978\n",
      "Last 30 batches accuracy: 0.978\n",
      "Last 30 batches accuracy: 0.983\n",
      "Last 30 batches accuracy: 0.980\n",
      "Epoch  22 , train accuracy: 0.980\n",
      "Epoch  22 , validation accuracy: 0.384\n",
      "Last 30 batches accuracy: 0.980\n",
      "Last 30 batches accuracy: 0.984\n",
      "Last 30 batches accuracy: 0.986\n",
      "Last 30 batches accuracy: 0.978\n",
      "Last 30 batches accuracy: 0.981\n",
      "Epoch  23 , train accuracy: 0.982\n",
      "Epoch  23 , validation accuracy: 0.382\n",
      "Last 30 batches accuracy: 0.984\n",
      "Last 30 batches accuracy: 0.985\n",
      "Last 30 batches accuracy: 0.987\n",
      "Last 30 batches accuracy: 0.979\n",
      "Epoch  24 , train accuracy: 0.984\n",
      "Epoch  24 , validation accuracy: 0.389\n",
      "Last 30 batches accuracy: 0.983\n",
      "Last 30 batches accuracy: 0.987\n",
      "Last 30 batches accuracy: 0.984\n",
      "Last 30 batches accuracy: 0.986\n",
      "Last 30 batches accuracy: 0.988\n",
      "Epoch  25 , train accuracy: 0.986\n",
      "Epoch  25 , validation accuracy: 0.380\n",
      "Last 30 batches accuracy: 0.981\n",
      "Last 30 batches accuracy: 0.988\n",
      "Last 30 batches accuracy: 0.985\n",
      "Last 30 batches accuracy: 0.981\n",
      "Epoch  26 , train accuracy: 0.984\n",
      "Epoch  26 , validation accuracy: 0.378\n",
      "Last 30 batches accuracy: 0.984\n",
      "Last 30 batches accuracy: 0.987\n",
      "Last 30 batches accuracy: 0.983\n",
      "Last 30 batches accuracy: 0.978\n",
      "Last 30 batches accuracy: 0.985\n",
      "Epoch  27 , train accuracy: 0.984\n",
      "Epoch  27 , validation accuracy: 0.387\n",
      "Last 30 batches accuracy: 0.983\n",
      "Last 30 batches accuracy: 0.990\n",
      "Last 30 batches accuracy: 0.987\n",
      "Last 30 batches accuracy: 0.984\n",
      "Epoch  28 , train accuracy: 0.984\n",
      "Epoch  28 , validation accuracy: 0.391\n",
      "Last 30 batches accuracy: 0.976\n",
      "Last 30 batches accuracy: 0.991\n",
      "Last 30 batches accuracy: 0.990\n",
      "Last 30 batches accuracy: 0.988\n",
      "Last 30 batches accuracy: 0.985\n",
      "Epoch  29 , train accuracy: 0.987\n",
      "Epoch  29 , validation accuracy: 0.383\n",
      "Test accuracy:  0.403\n"
     ]
    }
   ],
   "source": [
    "iter = 0\n",
    "for epoch in range(30):\n",
    "    model.train()\n",
    "    for batch in train_iter:\n",
    "        #batch = next(iter(train_iter))\n",
    "        iter+=1\n",
    "        targets = batch.label.to(device)\n",
    "        targets = targets.sub(1)\n",
    "        X = batch.text.to(device)\n",
    "        optimizer.zero_grad()\n",
    "        tag_scores = model(X)\n",
    "        tag_scores = tag_scores.squeeze(1)\n",
    "        loss = loss_function(tag_scores, targets)\n",
    "        loss.backward()\n",
    "        \n",
    "        _, predicted = torch.max(tag_scores, 1)\n",
    "        correct = (predicted == targets).float()\n",
    "        batch_acc = correct.sum() / len(correct)\n",
    "        \n",
    "        optimizer.step()\n",
    "        \n",
    "        train_acc.append(batch_acc.item())\n",
    "        train_loss.append(loss.item() / len(train_iter))\n",
    "        \n",
    "        if iter % 30 == 0:\n",
    "            print(\"Last 30 batches accuracy: {:.3f}\".format(np.mean(train_acc[-30:])))\n",
    "        \n",
    "    print(\"Epoch \", epoch, \", train accuracy: {:.3f}\".format(np.mean(train_acc[-len(train_iter):])))\n",
    "    \n",
    "    model.eval()\n",
    "    with torch.no_grad():\n",
    "        for batch in val_iter:\n",
    "            targets = batch.label.to(device)\n",
    "            targets = targets.sub(1)\n",
    "            tag_scores = model(batch.text.to(device))\n",
    "            tag_scores = tag_scores.squeeze(1)\n",
    "            loss = loss_function(tag_scores, targets)\n",
    "            _, predicted = torch.max(tag_scores, 1)\n",
    "            correct = (predicted == targets).float()\n",
    "            batch_acc = correct.sum() / len(correct)\n",
    "            val_acc.append(batch_acc.item())\n",
    "            val_loss.append(loss.item() / len(val_iter))\n",
    "    \n",
    "    print(\"Epoch \", epoch, \", validation accuracy: {:.3f}\".format(np.mean(val_acc[-len(val_iter):])))\n",
    "\n",
    "\n",
    "\n",
    "test_acc = []\n",
    "test_loss = []\n",
    "model.eval()\n",
    "with torch.no_grad():\n",
    "    for batch in test_iter:\n",
    "        targets = batch.label.to(device)\n",
    "        targets = targets.sub(1)\n",
    "        tag_scores = model(batch.text.to(device))\n",
    "        tag_scores = tag_scores.squeeze(1)\n",
    "        loss = loss_function(tag_scores, targets)\n",
    "        _, predicted = torch.max(tag_scores, 1)\n",
    "        correct = (predicted == targets).float()\n",
    "        batch_acc = correct.sum() / len(correct)\n",
    "        test_acc.append(batch_acc.item())\n",
    "        test_loss.append(loss.item())\n",
    "    \n",
    "print(\"Test accuracy:  {:.3f}\".format(np.mean(test_acc)))\n",
    "        \n",
    "        \n",
    "        \n",
    "        \n",
    "    \n",
    "    "
   ]
  },
  {
   "cell_type": "code",
   "execution_count": 12,
   "metadata": {},
   "outputs": [
    {
     "data": {
      "text/plain": [
       "Text(0.5, 1.0, 'Train loss')"
      ]
     },
     "execution_count": 12,
     "metadata": {},
     "output_type": "execute_result"
    },
    {
     "data": {
      "image/png": "[encoded data removed]",
      "text/plain": [
       "<Figure size 432x288 with 1 Axes>"
      ]
     },
     "metadata": {
      "needs_background": "light"
     },
     "output_type": "display_data"
    }
   ],
   "source": [
    "import matplotlib.pyplot as plt\n",
    "plt.plot(train_loss)\n",
    "plt.title('Train loss')"
   ]
  },
  {
   "cell_type": "code",
   "execution_count": 13,
   "metadata": {},
   "outputs": [
    {
     "data": {
      "text/plain": [
       "Text(0.5, 1.0, 'Train accuracy')"
      ]
     },
     "execution_count": 13,
     "metadata": {},
     "output_type": "execute_result"
    },
    {
     "data": {
      "image/png": "[encoded data removed]",
      "text/plain": [
       "<Figure size 432x288 with 1 Axes>"
      ]
     },
     "metadata": {
      "needs_background": "light"
     },
     "output_type": "display_data"
    }
   ],
   "source": [
    "plt.plot(train_acc)\n",
    "plt.title('Train accuracy')"
   ]
  },
  {
   "cell_type": "code",
   "execution_count": 14,
   "metadata": {},
   "outputs": [
    {
     "data": {
      "text/plain": [
       "Text(0.5, 1.0, 'Validation loss')"
      ]
     },
     "execution_count": 14,
     "metadata": {},
     "output_type": "execute_result"
    },
    {
     "data": {
      "image/png": "[encoded data removed]",
      "text/plain": [
       "<Figure size 432x288 with 1 Axes>"
      ]
     },
     "metadata": {
      "needs_background": "light"
     },
     "output_type": "display_data"
    }
   ],
   "source": [
    "plt.plot(val_loss)\n",
    "plt.title('Validation loss')"
   ]
  },
  {
   "cell_type": "code",
   "execution_count": 15,
   "metadata": {},
   "outputs": [
    {
     "data": {
      "text/plain": [
       "Text(0.5, 1.0, 'Validation accuracy')"
      ]
     },
     "execution_count": 15,
     "metadata": {},
     "output_type": "execute_result"
    },
    {
     "data": {
      "image/png": "[encoded data removed]",
      "text/plain": [
       "<Figure size 432x288 with 1 Axes>"
      ]
     },
     "metadata": {
      "needs_background": "light"
     },
     "output_type": "display_data"
    }
   ],
   "source": [
    "plt.plot(val_acc)\n",
    "plt.title('Validation accuracy')"
   ]
  },
  {
   "cell_type": "code",
   "execution_count": 16,
   "metadata": {},
   "outputs": [
    {
     "name": "stdout",
     "output_type": "stream",
     "text": [
      "Test loss:  3.288\n"
     ]
    }
   ],
   "source": [
    "print(\"Test loss:  {:.3f}\".format(np.mean(test_loss)))"
   ]
  },
  {
   "cell_type": "code",
   "execution_count": null,
   "metadata": {},
   "outputs": [],
   "source": []
  }
 ],
 "metadata": {
  "kernelspec": {
   "display_name": "Python 3",
   "language": "python",
   "name": "python3"
  },
  "language_info": {
   "codemirror_mode": {
    "name": "ipython",
    "version": 3
   },
   "file_extension": ".py",
   "mimetype": "text/x-python",
   "name": "python",
   "nbconvert_exporter": "python",
   "pygments_lexer": "ipython3",
   "version": "3.7.6"
  }
 },
 "nbformat": 4,
 "nbformat_minor": 4
}
