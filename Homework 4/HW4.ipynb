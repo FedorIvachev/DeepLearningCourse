{
 "cells": [
  {
   "cell_type": "code",
   "execution_count": 1,
   "metadata": {},
   "outputs": [],
   "source": [
    "import torch\n",
    "import torch.nn as nn\n",
    "from torch.utils.data import DataLoader\n",
    "import torchvision.transforms as transforms\n",
    "import torchvision.datasets\n",
    "import numpy as np\n",
    "from collections import OrderedDict\n",
    "import matplotlib.pyplot as plt"
   ]
  },
  {
   "cell_type": "code",
   "execution_count": 2,
   "metadata": {},
   "outputs": [],
   "source": [
    "num_epochs = 5\n",
    "batch_size = 100"
   ]
  },
  {
   "cell_type": "code",
   "execution_count": 3,
   "metadata": {},
   "outputs": [],
   "source": [
    "DATA_PATH = '/'"
   ]
  },
  {
   "cell_type": "code",
   "execution_count": 4,
   "metadata": {},
   "outputs": [
    {
     "name": "stderr",
     "output_type": "stream",
     "text": [
      "C:\\Users\\rod_i\\anaconda3\\lib\\site-packages\\torchvision\\datasets\\mnist.py:45: UserWarning: train_labels has been renamed targets\n",
      "  warnings.warn(\"train_labels has been renamed targets\")\n"
     ]
    },
    {
     "data": {
      "text/plain": [
       "60000"
      ]
     },
     "execution_count": 4,
     "metadata": {},
     "output_type": "execute_result"
    }
   ],
   "source": [
    "# Normalize the values so the neural net trains better\n",
    "trans = transforms.Compose([transforms.ToTensor(), transforms.Normalize((0.1307,), (0.3081,))])\n",
    "MNIST_train = torchvision.datasets.MNIST(root=DATA_PATH, train=True, transform=trans, download=True)\n",
    "MNIST_test = torchvision.datasets.MNIST(root=DATA_PATH, train=False, transform=trans)\n",
    "len(MNIST_train.train_labels)"
   ]
  },
  {
   "cell_type": "code",
   "execution_count": 5,
   "metadata": {},
   "outputs": [],
   "source": [
    "# Divide the data into batches\n",
    "train = DataLoader(dataset=MNIST_train, batch_size=batch_size)\n",
    "test = DataLoader(dataset=MNIST_test, batch_size=batch_size)"
   ]
  },
  {
   "cell_type": "code",
   "execution_count": 6,
   "metadata": {},
   "outputs": [],
   "source": [
    "class ConvNet(nn.Module):\n",
    "    def __init__(self):\n",
    "        super(ConvNet, self).__init__()\n",
    "        \n",
    "        # decided to have kernel size = 5, since step is 1 then padding = 2 in conv1\n",
    "        self.layer1 = nn.Sequential(OrderedDict([\n",
    "            ('conv1', nn.Conv2d(1, 32, 5, 1, 2)),\n",
    "            ('relu1', nn.ReLU()),\n",
    "            ('maxpool1', nn.MaxPool2d(2, 2))\n",
    "        ]))\n",
    "        self.layer2 = nn.Sequential(OrderedDict([\n",
    "            ('conv2', nn.Conv2d(32, 64, 5, 1, 2)),\n",
    "            ('relu2', nn.ReLU()),\n",
    "            ('maxpool2', nn.MaxPool2d(2, 2))\n",
    "        ]))\n",
    "        self.drop_out = nn.Dropout()\n",
    "        # three fc layers with relu\n",
    "        self.fc1 = nn.Linear(7 * 7 * 64, 1000)\n",
    "        self.act1 = nn.ReLU()\n",
    "        self.fc2 = nn.Linear(1000, 100)\n",
    "        self.act2 = nn.ReLU()\n",
    "        self.fc3 = nn.Linear(100, 10)\n",
    "    def forward(self, x):\n",
    "        # forward structure follows the nn structure\n",
    "        x = self.layer1(x)\n",
    "        x = self.layer2(x)\n",
    "        x = x.reshape(x.size(0), -1)\n",
    "        x = self.drop_out(x)\n",
    "        x = self.fc1(x)\n",
    "        x = self.act1(x)\n",
    "        x = self.fc2(x)\n",
    "        x = self.act2(x)\n",
    "        x = self.fc3(x)\n",
    "        return x\n"
   ]
  },
  {
   "cell_type": "code",
   "execution_count": 7,
   "metadata": {},
   "outputs": [],
   "source": [
    "def train_n_test(model, train, test, criterion, epochs = 5, learning_rate = 1.0e-3):\n",
    "    optimizer = torch.optim.Adam(model.parameters(), lr=learning_rate)\n",
    "    accuracies = []\n",
    "    losses = []\n",
    "    for epoch in range(num_epochs):\n",
    "        for i, (images, labels) in enumerate(train):\n",
    "            outputs = model(images)\n",
    "            loss = criterion(outputs, labels)\n",
    "            losses.append(loss.item())\n",
    "            \n",
    "            optimizer.zero_grad()\n",
    "            loss.backward()\n",
    "            optimizer.step()\n",
    "            \n",
    "            total = labels.size(0)\n",
    "            _, predicted = torch.max(outputs.data, 1)\n",
    "            correct = (predicted == labels).sum().item()\n",
    "            accuracies.append(correct / total)\n",
    "            \n",
    "            if (i + 1) % 100 == 0:\n",
    "                print(\"Epoch \", epoch, \" Iter \", i + 1, \" loss \", loss.item(), \" accuracy \", accuracies[-1])\n",
    "    model.eval()\n",
    "    correct = 0\n",
    "    total = 0\n",
    "    with torch.no_grad():\n",
    "        for images, labels in test:\n",
    "            outputs = model(images)\n",
    "            _, predicted = torch.max(outputs.data, 1)\n",
    "            total += labels.size(0)\n",
    "            correct += (predicted == labels).sum().item()\n",
    "        print(\"Test Accuracy \", (correct / total) * 100)\n",
    "    return accuracies, losses"
   ]
  },
  {
   "cell_type": "code",
   "execution_count": 8,
   "metadata": {},
   "outputs": [
    {
     "name": "stdout",
     "output_type": "stream",
     "text": [
      "Epoch  0  Iter  100  loss  0.0823177695274353  accuracy  0.97\n",
      "Epoch  0  Iter  200  loss  0.04295896366238594  accuracy  0.99\n",
      "Epoch  0  Iter  300  loss  0.09864789992570877  accuracy  0.97\n",
      "Epoch  0  Iter  400  loss  0.10186959058046341  accuracy  0.94\n",
      "Epoch  0  Iter  500  loss  0.11377422511577606  accuracy  0.94\n",
      "Epoch  0  Iter  600  loss  0.18717123568058014  accuracy  0.99\n",
      "Epoch  1  Iter  100  loss  0.015315060503780842  accuracy  1.0\n",
      "Epoch  1  Iter  200  loss  0.014348986558616161  accuracy  1.0\n",
      "Epoch  1  Iter  300  loss  0.07412219047546387  accuracy  0.97\n",
      "Epoch  1  Iter  400  loss  0.01636948622763157  accuracy  1.0\n",
      "Epoch  1  Iter  500  loss  0.08030710369348526  accuracy  0.97\n",
      "Epoch  1  Iter  600  loss  0.21488535404205322  accuracy  0.99\n",
      "Epoch  2  Iter  100  loss  0.03316844627261162  accuracy  0.99\n",
      "Epoch  2  Iter  200  loss  0.04641088843345642  accuracy  0.99\n",
      "Epoch  2  Iter  300  loss  0.033303890377283096  accuracy  0.99\n",
      "Epoch  2  Iter  400  loss  0.03423275798559189  accuracy  0.99\n",
      "Epoch  2  Iter  500  loss  0.09434084594249725  accuracy  0.96\n",
      "Epoch  2  Iter  600  loss  0.1447490155696869  accuracy  0.99\n",
      "Epoch  3  Iter  100  loss  0.006790569983422756  accuracy  1.0\n",
      "Epoch  3  Iter  200  loss  0.006361913867294788  accuracy  1.0\n",
      "Epoch  3  Iter  300  loss  0.0048857503570616245  accuracy  1.0\n",
      "Epoch  3  Iter  400  loss  0.01449014525860548  accuracy  0.99\n",
      "Epoch  3  Iter  500  loss  0.08071353286504745  accuracy  0.96\n",
      "Epoch  3  Iter  600  loss  0.16050100326538086  accuracy  0.99\n",
      "Epoch  4  Iter  100  loss  0.004944258835166693  accuracy  1.0\n",
      "Epoch  4  Iter  200  loss  0.009627523832023144  accuracy  1.0\n",
      "Epoch  4  Iter  300  loss  0.008190763182938099  accuracy  1.0\n",
      "Epoch  4  Iter  400  loss  0.0033291399013251066  accuracy  1.0\n",
      "Epoch  4  Iter  500  loss  0.060887932777404785  accuracy  0.98\n",
      "Epoch  4  Iter  600  loss  0.16046907007694244  accuracy  0.99\n",
      "Test Accuracy  99.16\n"
     ]
    }
   ],
   "source": [
    "accuracies, losses = train_n_test(ConvNet(), train, test, nn.CrossEntropyLoss())"
   ]
  },
  {
   "cell_type": "code",
   "execution_count": 10,
   "metadata": {},
   "outputs": [
    {
     "data": {
      "text/plain": [
       "Text(0.5, 1.0, 'Accuracy')"
      ]
     },
     "execution_count": 10,
     "metadata": {},
     "output_type": "execute_result"
    },
    {
     "data": {
      "image/png": "[encoded data removed]",
      "text/plain": [
       "<Figure size 432x288 with 1 Axes>"
      ]
     },
     "metadata": {
      "needs_background": "light"
     },
     "output_type": "display_data"
    }
   ],
   "source": [
    "plt.plot(accuracies)\n",
    "plt.title('Accuracy')"
   ]
  },
  {
   "cell_type": "code",
   "execution_count": 11,
   "metadata": {},
   "outputs": [
    {
     "data": {
      "image/png": "[encoded data removed]",
      "text/plain": [
       "<Figure size 432x288 with 1 Axes>"
      ]
     },
     "metadata": {
      "needs_background": "light"
     },
     "output_type": "display_data"
    }
   ],
   "source": [
    "plt.plot(losses)\n",
    "plt.title('Loss');"
   ]
  },
  {
   "cell_type": "code",
   "execution_count": null,
   "metadata": {},
   "outputs": [],
   "source": []
  }
 ],
 "metadata": {
  "kernelspec": {
   "display_name": "Python 3",
   "language": "python",
   "name": "python3"
  },
  "language_info": {
   "codemirror_mode": {
    "name": "ipython",
    "version": 3
   },
   "file_extension": ".py",
   "mimetype": "text/x-python",
   "name": "python",
   "nbconvert_exporter": "python",
   "pygments_lexer": "ipython3",
   "version": "3.7.6"
  }
 },
 "nbformat": 4,
 "nbformat_minor": 4
}
