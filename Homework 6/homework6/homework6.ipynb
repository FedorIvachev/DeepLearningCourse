{
 "cells": [
  {
   "cell_type": "code",
   "execution_count": 1,
   "metadata": {},
   "outputs": [],
   "source": [
    "from __future__ import absolute_import\n",
    "from __future__ import division\n",
    "from __future__ import print_function\n",
    "\n",
    "import numpy as np\n",
    "import six\n",
    "from six.moves import range"
   ]
  },
  {
   "cell_type": "code",
   "execution_count": 2,
   "metadata": {},
   "outputs": [],
   "source": [
    "from matplotlib import pyplot as plt\n",
    "%matplotlib inline"
   ]
  },
  {
   "cell_type": "code",
   "execution_count": 3,
   "metadata": {},
   "outputs": [
    {
     "data": {
      "text/plain": [
       "((150, 4), (150,), dtype('O'))"
      ]
     },
     "execution_count": 3,
     "metadata": {},
     "output_type": "execute_result"
    }
   ],
   "source": [
    "X = np.loadtxt('iris.data', dtype='object', delimiter=',')\n",
    "Y = X[:,-1]\n",
    "X = X[:, :-1].astype('f')\n",
    "X.shape, Y.shape, Y.dtype"
   ]
  },
  {
   "cell_type": "markdown",
   "metadata": {},
   "source": [
    "`X` is a `NxK` float matrix where each row (`X[i]`) corresponds to a data point."
   ]
  },
  {
   "cell_type": "code",
   "execution_count": 4,
   "metadata": {},
   "outputs": [],
   "source": [
    "def e_step(X, N, D, w, mean, cov, n_clusters):\n",
    "    \n",
    "    p = np.zeros((N, n_clusters)) # co-prob matrix\n",
    "    \n",
    "    scale = np.linalg.det(cov) ** -.5 # scaling of pdf\n",
    "    Z = (2*np.pi)**(D/2.) #inverse partition function\n",
    "    \n",
    "    for cluster_ind in range(n_clusters):\n",
    "        dist = np.exp(-.5 * np.einsum('ij, ij -> i', X - mean[cluster_ind], np.dot(np.linalg.inv(cov[cluster_ind]) , (X - mean[cluster_ind]).T).T ) ) # mahalanobis distance\n",
    "        p[:, cluster_ind] = w[cluster_ind] * scale[cluster_ind] * (1./Z) * dist #mult by class priors\n",
    "    \n",
    "    return (p.T / np.sum(p, axis = 1)).T     #divided to find posterior probability\n",
    "\n",
    "def m_step(responsibilities, w, N, X, n_clusters, cov, mean):\n",
    "    eff_N = np.sum(responsibilities, axis=0) # eff num in cluster\n",
    "        \n",
    "    w = eff_N / N # update cluster priors\n",
    "    mean = (responsibilities.T @ X) / eff_N.T[:, np.newaxis] # and means\n",
    "        \n",
    "    for cluster_ind in range(n_clusters):\n",
    "        cov[cluster_ind] = (1. / eff_N[cluster_ind]) * np.dot((responsibilities[:,cluster_ind].reshape(X.shape[0],1) * (X - mean[cluster_ind]) ).T, X - mean[cluster_ind])\n",
    "    \n",
    "    # when the number of clusters is large, occasionally may have singular covariance estimates, adding noise\n",
    "    #cov += np.eye(X.shape[1]) * 1e-9\n",
    "    return w, mean, cov\n",
    "\n",
    "def gmm(X, n_classes, n_iter):\n",
    "    n_clusters = n_classes \n",
    "    (N, D) = X.shape\n",
    "    \n",
    "    w = np.ones(n_clusters) * (1.0 / n_clusters)\n",
    "    mean = X[np.random.choice(N, n_clusters, False)]\n",
    "    cov = np.array([np.eye(D)] * n_clusters)\n",
    "\n",
    "    for epoch in range(n_iter):\n",
    "        # Perform E-step to calculate the responsibilities matrix\n",
    "        responsibilities = e_step(X, N, D, w, mean, cov, n_clusters) \n",
    "        \n",
    "        # Perform M-step to maximize (w, mean, cov)\n",
    "        w, mean, cov = m_step(responsibilities, w, N, X, n_clusters, cov, mean)\n",
    "        \n",
    "    # vector of most probable class for each obj\n",
    "    class_assignments = np.argmax(responsibilities, axis=1)\n",
    "    \n",
    "    return class_assignments, mean, cov"
   ]
  },
  {
   "cell_type": "code",
   "execution_count": 5,
   "metadata": {},
   "outputs": [],
   "source": [
    "class_assignments, mean, cov = gmm(X, 2, 500)  # You may want to tune the number of iterations"
   ]
  },
  {
   "cell_type": "markdown",
   "metadata": {},
   "source": [
    "## Visualization: a Cross Section"
   ]
  },
  {
   "cell_type": "code",
   "execution_count": 6,
   "metadata": {},
   "outputs": [
    {
     "data": {
      "image/png": "[encoded data removed]",
      "text/plain": [
       "<Figure size 648x288 with 2 Axes>"
      ]
     },
     "metadata": {
      "needs_background": "light"
     },
     "output_type": "display_data"
    }
   ],
   "source": [
    "plt.figure(figsize=(9,4))\n",
    "plt.subplot(121)\n",
    "for k in range(3):\n",
    "    plt.scatter(X[class_assignments==k, 2], X[class_assignments==k, 1], s=2)\n",
    "plt.subplot(122)\n",
    "for k, class_name in enumerate(np.unique(Y)):\n",
    "    plt.scatter(X[Y==class_name, 2], X[Y==class_name, 1], s=2)\n",
    "plt.savefig(\"Cluster-.png\")"
   ]
  },
  {
   "cell_type": "markdown",
   "metadata": {},
   "source": [
    "## Visualization: PCA Projection"
   ]
  },
  {
   "cell_type": "code",
   "execution_count": 7,
   "metadata": {},
   "outputs": [],
   "source": [
    "evals, evecs = np.linalg.eigh(np.cov(X.T))\n",
    "to_crd = lambda x: ((x-x.mean(axis=0))@evecs)[:,-2:]\n",
    "crds = to_crd(X)"
   ]
  },
  {
   "cell_type": "code",
   "execution_count": 8,
   "metadata": {},
   "outputs": [
    {
     "data": {
      "image/png": "[encoded data removed]",
      "text/plain": [
       "<Figure size 648x288 with 2 Axes>"
      ]
     },
     "metadata": {
      "needs_background": "light"
     },
     "output_type": "display_data"
    }
   ],
   "source": [
    "plt.figure(figsize=(9,4))\n",
    "plt.subplot(121)\n",
    "for k in range(3):\n",
    "    plt.scatter(crds[class_assignments==k, 0], crds[class_assignments==k, 1], s=2)\n",
    "plt.scatter(to_crd(mean)[:,0], to_crd(mean)[:,1], s=30, marker='+')\n",
    "plt.subplot(122)\n",
    "for k in np.unique(Y):\n",
    "    plt.scatter(crds[Y==k, 0], crds[Y==k, 1], s=2)\n",
    "plt.savefig(\"PCA-Cluster-.png\")"
   ]
  },
  {
   "cell_type": "code",
   "execution_count": null,
   "metadata": {},
   "outputs": [],
   "source": []
  }
 ],
 "metadata": {
  "kernelspec": {
   "display_name": "Python 3",
   "language": "python",
   "name": "python3"
  },
  "language_info": {
   "codemirror_mode": {
    "name": "ipython",
    "version": 3
   },
   "file_extension": ".py",
   "mimetype": "text/x-python",
   "name": "python",
   "nbconvert_exporter": "python",
   "pygments_lexer": "ipython3",
   "version": "3.7.6"
  }
 },
 "nbformat": 4,
 "nbformat_minor": 2
}
